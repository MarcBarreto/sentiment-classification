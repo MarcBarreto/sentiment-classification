{
 "cells": [
  {
   "cell_type": "code",
   "execution_count": null,
   "metadata": {
    "colab": {
     "base_uri": "https://localhost:8080/"
    },
    "id": "wEjCi6HJxadB",
    "outputId": "bc4dce2b-e7f7-4652-d451-3ba58cfc91ee"
   },
   "outputs": [],
   "source": [
    "!pip install -q -U watermark\n",
    "!pip install -q spacy\n",
    "!pip install -q transformers"
   ]
  },
  {
   "cell_type": "code",
   "execution_count": null,
   "metadata": {
    "id": "_GfiATFax6J9"
   },
   "outputs": [],
   "source": [
    "import math\n",
    "import nltk\n",
    "import spacy\n",
    "import numpy as np\n",
    "import pandas as pd\n",
    "import tensorflow as tf\n",
    "import matplotlib.pyplot as plt\n",
    "import transformers\n",
    "from tokenizers import BertWordPieceTokenizer\n",
    "from tqdm import tqdm\n",
    "from nltk.corpus import stopwords\n",
    "from sklearn.preprocessing import LabelEncoder\n",
    "from sklearn.feature_extraction.text import TfidfVectorizer\n",
    "from sklearn.model_selection import train_test_split\n",
    "from sklearn.utils.class_weight import compute_class_weight\n",
    "from sklearn.metrics import confusion_matrix, accuracy_score, classification_report\n",
    "from tensorflow import keras\n",
    "from keras.utils import to_categorical\n",
    "from tensorflow.keras import Sequential\n",
    "from keras.preprocessing.text import Tokenizer\n",
    "from keras.metrics import Precision, Recall, AUC\n",
    "from tensorflow.keras.preprocessing.sequence import pad_sequences\n",
    "from keras.layers import Embedding, LSTM, Dense, Dropout, Bidirectional\n",
    "from keras.callbacks import EarlyStopping, LearningRateScheduler, CallbackList, ReduceLROnPlateau\n",
    "from tensorflow.keras.optimizers.experimental import Adam"
   ]
  },
  {
   "cell_type": "code",
   "execution_count": null,
   "metadata": {
    "colab": {
     "base_uri": "https://localhost:8080/"
    },
    "id": "IYA-5WgL19r4",
    "outputId": "6084ef88-6cde-4005-a7ba-9b0d7b4aa900"
   },
   "outputs": [],
   "source": [
    "%reload_ext watermark\n",
    "%watermark -a \"Marcelo Barreto\""
   ]
  },
  {
   "cell_type": "markdown",
   "metadata": {
    "id": "sqNxBDoZ3GED"
   },
   "source": [
    "# **Carregando os Dados de Texto**"
   ]
  },
  {
   "cell_type": "code",
   "execution_count": null,
   "metadata": {
    "colab": {
     "base_uri": "https://localhost:8080/"
    },
    "id": "QuqR3VoX58yF",
    "outputId": "52f644b2-7af0-4d97-8fd8-513dcecd63f1"
   },
   "outputs": [],
   "source": [
    "# Caso seja no Google Colab\n",
    "'''from google.colab import drive\n",
    "\n",
    "drive.mount('/content/drive')\n",
    "\n",
    "import os\n",
    "\n",
    "path = '/content/drive/MyDrive/Colab Notebooks' '''\n"
   ]
  },
  {
   "cell_type": "code",
   "execution_count": null,
   "metadata": {
    "id": "OPv4aB323WMf"
   },
   "outputs": [],
   "source": [
    "path = './datas'\n",
    "# Carrega os dados de treino\n",
    "train_data = pd.read_csv(os.path.join(path, 'dados_treinos.txt'), header = None, delimiter = ';')\n",
    "\n",
    "# Carrega os dados de teste\n",
    "test_data = pd.read_csv(os.path.join(path, 'dados_teste.txt'), header = None, delimiter = ';')"
   ]
  },
  {
   "cell_type": "code",
   "execution_count": null,
   "metadata": {
    "id": "wzR-vgEV2pcE"
   },
   "outputs": [],
   "source": [
    "# Ajusta os nomes das colunas\n",
    "train_data = train_data.rename(columns = {0: 'texto', 1: 'sentimento'})\n",
    "test_data = test_data.rename(columns = {0: 'texto', 1: 'sentimento'})"
   ]
  },
  {
   "cell_type": "code",
   "execution_count": null,
   "metadata": {
    "colab": {
     "base_uri": "https://localhost:8080/"
    },
    "id": "mMI6-6rZ5ur0",
    "outputId": "fde1fa72-2b1c-4708-f964-23641e851f32"
   },
   "outputs": [],
   "source": [
    "train_data.shape"
   ]
  },
  {
   "cell_type": "code",
   "execution_count": null,
   "metadata": {
    "colab": {
     "base_uri": "https://localhost:8080/"
    },
    "id": "9q7c3l8m5wvV",
    "outputId": "35f00d64-4ba0-4718-b7a2-07b055918a45"
   },
   "outputs": [],
   "source": [
    "test_data.shape"
   ]
  },
  {
   "cell_type": "code",
   "execution_count": null,
   "metadata": {
    "colab": {
     "base_uri": "https://localhost:8080/",
     "height": 206
    },
    "id": "Y9iYH7oS5yHJ",
    "outputId": "a9ef6caf-7e06-408a-b7df-dd9010150d12"
   },
   "outputs": [],
   "source": [
    "train_data.head()"
   ]
  },
  {
   "cell_type": "code",
   "execution_count": null,
   "metadata": {
    "colab": {
     "base_uri": "https://localhost:8080/"
    },
    "id": "_TObK8yoBasp",
    "outputId": "ff81fc2b-ddbb-45e7-a07f-3f0c6e21147e"
   },
   "outputs": [],
   "source": [
    "# Sentimentos presentes nos dados de treino\n",
    "train_data['sentimento'].value_counts()"
   ]
  },
  {
   "cell_type": "code",
   "execution_count": null,
   "metadata": {
    "colab": {
     "base_uri": "https://localhost:8080/"
    },
    "id": "7oCPsvWkC-mb",
    "outputId": "ee35e629-10de-4441-afd8-f45b8c6539c5"
   },
   "outputs": [],
   "source": [
    "# Sentimentos presentes nos dados de teste\n",
    "test_data['sentimento'].value_counts()"
   ]
  },
  {
   "cell_type": "markdown",
   "metadata": {
    "id": "1V2NlLeyoHqJ"
   },
   "source": [
    "# **Pré-processamento dos Dados de Texto com Spacy**"
   ]
  },
  {
   "cell_type": "code",
   "execution_count": null,
   "metadata": {
    "colab": {
     "base_uri": "https://localhost:8080/"
    },
    "id": "cTwzp7sloQsV",
    "outputId": "f199e3b4-8e55-488c-8b29-fef4bc97d171"
   },
   "outputs": [],
   "source": [
    "# Baixando o dicionário\n",
    "!python -m spacy download en_core_web_md"
   ]
  },
  {
   "cell_type": "code",
   "execution_count": null,
   "metadata": {
    "id": "P6aiCntqpIsq"
   },
   "outputs": [],
   "source": [
    "# Carrega o dicionário\n",
    "nlp_dict = spacy.load('en_core_web_md')"
   ]
  },
  {
   "cell_type": "code",
   "execution_count": null,
   "metadata": {
    "id": "t_itkYsvpdTT"
   },
   "outputs": [],
   "source": [
    "# Definição da função 'preprocessar_texto' que recebe um texto como parâmetro\n",
    "def preprocessar_texto(text):\n",
    "  # Processa o texto usando o dicionário\n",
    "  doc = nlp_dict(text)\n",
    "\n",
    "  # Cria uma lista de lemas dos tokens, convertidos para minúsculas e sem espaços em brancos,\n",
    "  # excluindo as palavras que são stopwords\n",
    "  tokens = [token.lemma_.lower().strip() for token in doc if not token.is_stop]\n",
    "\n",
    "  # Retorna os tokens processados como uma string única, unindo-os com espaços\n",
    "  return ' '.join(tokens)"
   ]
  },
  {
   "cell_type": "code",
   "execution_count": null,
   "metadata": {
    "id": "PkWYFkpWqsXE"
   },
   "outputs": [],
   "source": [
    "# Aplicando a função nos dados de treino\n",
    "train_data['texto_processado'] = train_data['texto'].apply(preprocessar_texto)\n",
    "\n",
    "# Aplicando a função nos dados de teste\n",
    "test_data['texto_processado'] = test_data['texto'].apply(preprocessar_texto)"
   ]
  },
  {
   "cell_type": "code",
   "execution_count": null,
   "metadata": {
    "colab": {
     "base_uri": "https://localhost:8080/",
     "height": 206
    },
    "id": "vbgaEPuVvXS_",
    "outputId": "bdd2dd12-a7c7-42c3-f8b7-4a6c43931555"
   },
   "outputs": [],
   "source": [
    "train_data.head()"
   ]
  },
  {
   "cell_type": "markdown",
   "metadata": {
    "id": "Ol824E1v8Mic"
   },
   "source": [
    "# **Versão 1 do Modelo - Arquitetura Fully Connected Neural Network**"
   ]
  },
  {
   "cell_type": "markdown",
   "metadata": {
    "id": "Q4dc75-R8fBM"
   },
   "source": [
    "**Passo 1: Vetorização com TF-IDF**"
   ]
  },
  {
   "cell_type": "code",
   "execution_count": null,
   "metadata": {
    "id": "2QvJeNvO8c5T"
   },
   "outputs": [],
   "source": [
    "# Cria o Vetorizador\n",
    "tfidf = TfidfVectorizer(max_df = 0.95, min_df = 2, stop_words = 'english')"
   ]
  },
  {
   "cell_type": "code",
   "execution_count": null,
   "metadata": {
    "id": "the3acDCBnzG"
   },
   "outputs": [],
   "source": [
    "# Aplica o Vetorizador\n",
    "tfidf_train_data = tfidf.fit_transform(train_data['texto_processado'])\n",
    "tfidf_test_data = tfidf.transform(test_data['texto_processado'])"
   ]
  },
  {
   "cell_type": "code",
   "execution_count": null,
   "metadata": {
    "colab": {
     "base_uri": "https://localhost:8080/"
    },
    "id": "YgusuujoC-VJ",
    "outputId": "a9437096-b8cb-4248-f1aa-b9fa7aa7f31d"
   },
   "outputs": [],
   "source": [
    "tfidf_train_data.shape"
   ]
  },
  {
   "cell_type": "code",
   "execution_count": null,
   "metadata": {
    "id": "DCVip4DkDB6U"
   },
   "outputs": [],
   "source": [
    "X_train_array = tfidf_train_data.toarray()\n",
    "X_test_array = tfidf_test_data.toarray()"
   ]
  },
  {
   "cell_type": "markdown",
   "metadata": {
    "id": "hU7HQp-rLZF-"
   },
   "source": [
    "**Passo 2: Preparação dos Dados**\n",
    "\n",
    "Converter variável alvo para representação numérica"
   ]
  },
  {
   "cell_type": "code",
   "execution_count": null,
   "metadata": {
    "id": "EqAi0rZSLoxh"
   },
   "outputs": [],
   "source": [
    "# Criar o Label Encoder\n",
    "label_encoder = LabelEncoder()\n",
    "\n",
    "# Aplica o Label Encoder\n",
    "y_train_le = label_encoder.fit_transform(train_data['sentimento'])\n",
    "y_test_le = label_encoder.transform(test_data['sentimento'])"
   ]
  },
  {
   "cell_type": "code",
   "execution_count": null,
   "metadata": {
    "id": "AIwJR6VLL_tJ"
   },
   "outputs": [],
   "source": [
    "# Peso das Classes\n",
    "w_classes = compute_class_weight('balanced', classes = np.unique(y_train_le), y = y_train_le)"
   ]
  },
  {
   "cell_type": "code",
   "execution_count": null,
   "metadata": {
    "id": "nPsm0PCIOrNq"
   },
   "outputs": [],
   "source": [
    "X_train, X_val, y_train, y_val = train_test_split(X_train_array,\n",
    "                                                  y_train_le,\n",
    "                                                  test_size = 0.2,\n",
    "                                                  random_state = 42,\n",
    "                                                  stratify = y_train_le)"
   ]
  },
  {
   "cell_type": "code",
   "execution_count": null,
   "metadata": {
    "id": "Osj1BWZOPi1b"
   },
   "outputs": [],
   "source": [
    "# Ajustar as variáveis para o tipo categórico\n",
    "y_train_encoded = to_categorical(y_train)\n",
    "y_val_encoded = to_categorical(y_val)\n",
    "y_test_encoded = to_categorical(y_test_le)"
   ]
  },
  {
   "cell_type": "code",
   "execution_count": null,
   "metadata": {
    "colab": {
     "base_uri": "https://localhost:8080/"
    },
    "id": "5CF49qwcQB6t",
    "outputId": "50682f52-daaa-4783-d3fc-6063b77599be"
   },
   "outputs": [],
   "source": [
    "# Shape\n",
    "y_train_encoded.shape, y_val_encoded.shape, y_test_encoded.shape"
   ]
  },
  {
   "cell_type": "markdown",
   "metadata": {
    "id": "F85Chdh2Xn9u"
   },
   "source": [
    "**Passo 3: Construção do Modelo**"
   ]
  },
  {
   "cell_type": "code",
   "execution_count": null,
   "metadata": {
    "id": "hhWAiG_kXrop"
   },
   "outputs": [],
   "source": [
    "# Rede Neural Totalmente Conectada - Fully Connected Neural Network\n",
    "\n",
    "model_v1 = Sequential()\n",
    "\n",
    "# 1ª camada\n",
    "model_v1.add(Dense(4096,\n",
    "                   activation = 'selu', # função de ativação SELU (Scaled Exponential Linear Unit)\n",
    "                   kernel_initializer = 'lecun_normal', # inicializa os pesso com a distribuição lecun normal\n",
    "                   input_shape = (X_train.shape[1],),\n",
    "                   kernel_regularizer = tf.keras.regularizers.l2(0.01))) # Aplica regularização l2 para evitar overfitting\n",
    "\n",
    "# 2ª camada\n",
    "model_v1.add(Dense(2048,\n",
    "                   activation = 'selu',\n",
    "                   kernel_initializer = 'lecun_normal',\n",
    "                   kernel_regularizer = tf.keras.regularizers.l2(0.01)))\n",
    "\n",
    "# 3ª camada\n",
    "model_v1.add(Dense(1024,\n",
    "                   activation = 'selu',\n",
    "                   kernel_initializer = 'lecun_normal',\n",
    "                   kernel_regularizer = tf.keras.regularizers.l2(0.1)))\n",
    "\n",
    "# 4ª camada\n",
    "model_v1.add(Dense(64, activation = 'selu'))\n",
    "\n",
    "# 5ª camada - camada de saída\n",
    "model_v1.add(Dense(6, activation = 'softmax'))"
   ]
  },
  {
   "cell_type": "markdown",
   "metadata": {
    "id": "I-QSodjbifp7"
   },
   "source": [
    "**Passo 4: Compilação e Sumário do Modelo**"
   ]
  },
  {
   "cell_type": "code",
   "execution_count": null,
   "metadata": {
    "colab": {
     "base_uri": "https://localhost:8080/"
    },
    "id": "c5GWu2qzijJE",
    "outputId": "baf2a674-35f5-470b-c137-601004595625"
   },
   "outputs": [],
   "source": [
    "# Atribui pesos específicos ao vetor de bias da última camada do modelo\n",
    "model_v1.layers[-1].bias.assign(w_classes)"
   ]
  },
  {
   "cell_type": "code",
   "execution_count": null,
   "metadata": {
    "id": "vIKx-WH6iukB"
   },
   "outputs": [],
   "source": [
    "# Compila o modelo\n",
    "# Define o otimizador como 'Adam'\n",
    "# Adam é um algoritmo de otimização que pode ser usado no lugar do procedimento clássico da descida\n",
    "# do gradiente estocástica para atualizar os pesos da rede iterativamente com base nos dados de treinamento,\n",
    "# Define a função de perda como 'categorical_crossentropy'. É adequada para problemas de classificação\n",
    "# multiclasse, onde os rótulos são fornecidos em um formato one-hot encoded.\n",
    "# Define a métrica de avaliação do modelo como 'accuracy' (acurácia).\n",
    "# A acurácia é uma métrica comum para avaliar o desempenho de modelos de classificação\n",
    "model_v1.compile(optimizer = 'Adam',\n",
    "                 loss = tf.losses.categorical_crossentropy,\n",
    "                 metrics = ['accuracy', Precision(), Recall(), AUC()])"
   ]
  },
  {
   "cell_type": "code",
   "execution_count": null,
   "metadata": {
    "colab": {
     "base_uri": "https://localhost:8080/"
    },
    "id": "XA-tH2fTjPsb",
    "outputId": "aaf49834-780f-40ab-f8d7-b9d43fb2fc29"
   },
   "outputs": [],
   "source": [
    "model_v1.summary()"
   ]
  },
  {
   "cell_type": "markdown",
   "metadata": {
    "id": "F0MnHNIw36IU"
   },
   "source": [
    "**Passo 5: Callbacks e Early Stopping**"
   ]
  },
  {
   "cell_type": "code",
   "execution_count": null,
   "metadata": {
    "id": "DwqOJIwM3_mv"
   },
   "outputs": [],
   "source": [
    "# Função para o Parâmetro de Scheduler de Taxa de Aprendizado\n",
    "def step_decay(epoch):\n",
    "    initial_rate = 0.001\n",
    "    drop = 0.5\n",
    "    epochs_drop = 10.0\n",
    "    lrate = initial_rate * math.pow(drop, math.floor((1 + epoch) / epochs_drop))\n",
    "    return lrate"
   ]
  },
  {
   "cell_type": "code",
   "execution_count": null,
   "metadata": {
    "id": "7HgnN_0I4itF"
   },
   "outputs": [],
   "source": [
    "# Scheduler de Taxa de Aprendizado\n",
    "lr_scheduler = LearningRateScheduler(step_decay)"
   ]
  },
  {
   "cell_type": "code",
   "execution_count": null,
   "metadata": {
    "id": "iNIT1lPn4wl6"
   },
   "outputs": [],
   "source": [
    "# Early Stopping\n",
    "early_stopping = EarlyStopping(monitor = 'val_loss', restore_best_weights = True, patience = 3)"
   ]
  },
  {
   "cell_type": "code",
   "execution_count": null,
   "metadata": {
    "id": "ynyyJepm9f-N"
   },
   "outputs": [],
   "source": [
    "# Hiperparâmetros\n",
    "num_epochs = 20\n",
    "tamanho_batch = 256"
   ]
  },
  {
   "cell_type": "code",
   "execution_count": null,
   "metadata": {
    "colab": {
     "base_uri": "https://localhost:8080/"
    },
    "id": "GYqCiQan-CxU",
    "outputId": "2f8033b6-9c92-4d77-a401-e9a8abcbf7ec"
   },
   "outputs": [],
   "source": [
    "%%time\n",
    "history = model_v1.fit(X_train,\n",
    "                       y_train_encoded,\n",
    "                       validation_data = (X_val, y_val_encoded),\n",
    "                       epochs = num_epochs,\n",
    "                       batch_size = tamanho_batch,\n",
    "                       callbacks = [early_stopping, lr_scheduler])"
   ]
  },
  {
   "cell_type": "markdown",
   "metadata": {
    "id": "ZH_JgYgSAxcE"
   },
   "source": [
    "**Passo 7: Avaliação do Modelo**"
   ]
  },
  {
   "cell_type": "code",
   "execution_count": null,
   "metadata": {
    "id": "YUtBlUzNA0UM"
   },
   "outputs": [],
   "source": [
    "# Extrai o erro em treino e validação\n",
    "loss, val_loss = history.history['loss'], history.history['val_loss']"
   ]
  },
  {
   "cell_type": "code",
   "execution_count": null,
   "metadata": {
    "colab": {
     "base_uri": "https://localhost:8080/",
     "height": 430
    },
    "id": "Qq7Ccc42BQsY",
    "outputId": "2e2b3c65-9d83-4e29-aa4d-142ed3d72d6e"
   },
   "outputs": [],
   "source": [
    "# Gráfico do Valor de Perda do Modelo\n",
    "plt.plot(loss, label = 'loss')\n",
    "plt.plot(val_loss, label = 'val_loss')\n",
    "plt.legend()\n",
    "plt.show()"
   ]
  },
  {
   "cell_type": "code",
   "execution_count": null,
   "metadata": {
    "colab": {
     "base_uri": "https://localhost:8080/"
    },
    "id": "HJteaGRoCeqg",
    "outputId": "1127bb69-1966-447e-bb8d-ffa312965919"
   },
   "outputs": [],
   "source": [
    "# Previsões com dado de teste\n",
    "predict_v1 = model_v1.predict(X_test_array)"
   ]
  },
  {
   "cell_type": "code",
   "execution_count": null,
   "metadata": {
    "id": "CVg4f27oCwAj"
   },
   "outputs": [],
   "source": [
    "# Extrai as labels\n",
    "predict_v1_labels = predict_v1.argmax(axis = 1)"
   ]
  },
  {
   "cell_type": "code",
   "execution_count": null,
   "metadata": {
    "colab": {
     "base_uri": "https://localhost:8080/"
    },
    "id": "UNSvNsyPC5Pz",
    "outputId": "ea7bbae4-0430-4460-a8c8-00a7bd62d550"
   },
   "outputs": [],
   "source": [
    "print(classification_report(y_test_le, predict_v1_labels))"
   ]
  },
  {
   "cell_type": "code",
   "execution_count": null,
   "metadata": {
    "colab": {
     "base_uri": "https://localhost:8080/"
    },
    "id": "2B0_anNfE_tt",
    "outputId": "2de3129c-f408-4f6b-d46f-44daf56d6a38"
   },
   "outputs": [],
   "source": [
    "print(confusion_matrix(y_test_le, predict_v1_labels))"
   ]
  },
  {
   "cell_type": "code",
   "execution_count": null,
   "metadata": {
    "colab": {
     "base_uri": "https://localhost:8080/"
    },
    "id": "j2qPzVDaFDbB",
    "outputId": "6730c212-0d34-4754-ee0f-feab1998396d"
   },
   "outputs": [],
   "source": [
    "print(accuracy_score(y_test_le, predict_v1_labels))"
   ]
  },
  {
   "cell_type": "code",
   "execution_count": null,
   "metadata": {
    "id": "9W47M15JFLNp"
   },
   "outputs": [],
   "source": [
    "model_v1.save('./datas/model_v1.keras')"
   ]
  },
  {
   "cell_type": "markdown",
   "metadata": {
    "id": "LhWhGcpfGJ0q"
   },
   "source": [
    "**Passo 8: Deploy da Versão 1 do Modelo**"
   ]
  },
  {
   "cell_type": "code",
   "execution_count": null,
   "metadata": {
    "id": "G8jxxgcOGNIG"
   },
   "outputs": [],
   "source": [
    "# Carrega o modelo\n",
    "loaded_model = keras.models.load_model('./datas/model_v1.keras')"
   ]
  },
  {
   "cell_type": "code",
   "execution_count": null,
   "metadata": {
    "id": "qK9MSID4Gq4W"
   },
   "outputs": [],
   "source": [
    "# Nova frase\n",
    "phrase = \"i even feel a little shaky\""
   ]
  },
  {
   "cell_type": "code",
   "execution_count": null,
   "metadata": {
    "id": "KJ2s9beCGytY"
   },
   "outputs": [],
   "source": [
    "# Cria um DataFrame da frase\n",
    "df = pd.DataFrame({'Phrase': [phrase]})"
   ]
  },
  {
   "cell_type": "code",
   "execution_count": null,
   "metadata": {
    "id": "omWoYmuCHM-2"
   },
   "outputs": [],
   "source": [
    "# Aplica a função de PreProcessamento\n",
    "df['Processed_Phrase'] = df['Phrase'].apply(preprocessar_texto)"
   ]
  },
  {
   "cell_type": "code",
   "execution_count": null,
   "metadata": {
    "colab": {
     "base_uri": "https://localhost:8080/",
     "height": 89
    },
    "id": "x8tvuT0oHejW",
    "outputId": "ed69d53f-6ea6-4c48-e69c-4630d058ab82"
   },
   "outputs": [],
   "source": [
    "df"
   ]
  },
  {
   "cell_type": "code",
   "execution_count": null,
   "metadata": {
    "id": "Nn0iAtT_Hi_t"
   },
   "outputs": [],
   "source": [
    "# Aplica a vetorização\n",
    "df_tfidf = tfidf.transform(df['Processed_Phrase'])"
   ]
  },
  {
   "cell_type": "code",
   "execution_count": null,
   "metadata": {
    "id": "yZOpe-98IJio"
   },
   "outputs": [],
   "source": [
    "# Transforma em array\n",
    "df_tfidf_array = df_tfidf.toarray()"
   ]
  },
  {
   "cell_type": "code",
   "execution_count": null,
   "metadata": {
    "colab": {
     "base_uri": "https://localhost:8080/"
    },
    "id": "et6cLNOtI5M7",
    "outputId": "bfe9f716-3c3f-4380-8c59-974df61284a5"
   },
   "outputs": [],
   "source": [
    "# Previsões\n",
    "results = loaded_model.predict(df_tfidf_array)"
   ]
  },
  {
   "cell_type": "code",
   "execution_count": null,
   "metadata": {
    "colab": {
     "base_uri": "https://localhost:8080/"
    },
    "id": "aM315qiXJX2F",
    "outputId": "788714b0-9396-4797-80d9-20f4a702a6dd"
   },
   "outputs": [],
   "source": [
    "prob_class = np.argmax(results, axis = 1)\n",
    "prob_class"
   ]
  },
  {
   "cell_type": "code",
   "execution_count": null,
   "metadata": {
    "colab": {
     "base_uri": "https://localhost:8080/"
    },
    "id": "M1c4xJthJg7Y",
    "outputId": "3d827c55-45fe-4911-e7d6-aa6412c86ca2"
   },
   "outputs": [],
   "source": [
    "# Obtém o nome da classe\n",
    "class_name = label_encoder.inverse_transform(prob_class)\n",
    "class_name"
   ]
  }
 ],
 "metadata": {
  "accelerator": "GPU",
  "colab": {
   "gpuType": "T4",
   "provenance": []
  },
  "kernelspec": {
   "display_name": "Python 3 (ipykernel)",
   "language": "python",
   "name": "python3"
  },
  "language_info": {
   "codemirror_mode": {
    "name": "ipython",
    "version": 3
   },
   "file_extension": ".py",
   "mimetype": "text/x-python",
   "name": "python",
   "nbconvert_exporter": "python",
   "pygments_lexer": "ipython3",
   "version": "3.11.5"
  }
 },
 "nbformat": 4,
 "nbformat_minor": 4
}
